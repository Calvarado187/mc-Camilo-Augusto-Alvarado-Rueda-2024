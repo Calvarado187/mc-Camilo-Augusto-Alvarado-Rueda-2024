{
  "nbformat": 4,
  "nbformat_minor": 0,
  "metadata": {
    "colab": {
      "provenance": []
    },
    "kernelspec": {
      "name": "python3",
      "display_name": "Python 3"
    },
    "language_info": {
      "name": "python"
    }
  },
  "cells": [
    {
      "cell_type": "code",
      "execution_count": null,
      "metadata": {
        "id": "IUF_ciscwhor"
      },
      "outputs": [],
      "source": [
        "#Modelo de razón de crecimiento:\n",
        "import numpy as np\n",
        "import matplotlib.pyplot as plt\n",
        "\n",
        "# Datos\n",
        "x = np.array([1, 2, 3, 4, 5, 6, 7, 8])\n",
        "y = np.array([4.3, 6.5, 7.5, 8, 8.5, 8.8, 9, 9.5])\n",
        "\n",
        "# Aplicando logaritmos a los datos\n",
        "log_x = np.log(x)\n",
        "log_y = np.log(y)\n",
        "\n",
        "# Calculando la regresión lineal\n",
        "A = np.vstack([log_x, np.ones(len(log_x))]).T\n",
        "m, c = np.linalg.lstsq(A, log_y, rcond=None)[0]\n",
        "\n",
        "# Parámetros de la ecuación de potencias\n",
        "a = np.exp(c)\n",
        "b = m\n",
        "\n",
        "# Predicción\n",
        "x_pred = np.linspace(1, 8, 100)\n",
        "y_pred = a * np.power(x_pred, b)\n",
        "\n",
        "# Graficando\n",
        "plt.scatter(x, y, label='Datos')\n",
        "plt.plot(x_pred, y_pred, 'r', label=f'Ecuación de potencias: y = {a:.2f} * x^{b:.2f}')\n",
        "plt.xlabel('x')\n",
        "plt.ylabel('y')\n",
        "plt.legend()\n",
        "plt.title('Regresión lineal - Ecuación de potencias')\n",
        "plt.grid(True)\n",
        "plt.show()\n"
      ]
    },
    {
      "cell_type": "code",
      "source": [
        "#MODELO ECUACION DE POTENCIAS\n",
        "import numpy as np\n",
        "import matplotlib.pyplot as plt\n",
        "\n",
        "# Datos\n",
        "x = np.array([1, 2, 3, 4, 5, 6, 7, 8])\n",
        "y = np.array([4.3, 6.5, 7.5, 8, 8.5, 8.8, 9, 9.5])\n",
        "\n",
        "# Calculando la regresión lineal\n",
        "A = np.vstack([x, np.ones(len(x))]).T\n",
        "m, c = np.linalg.lstsq(A, y, rcond=None)[0]\n",
        "\n",
        "# Parámetros de la razón de crecimiento\n",
        "a = c\n",
        "b = m\n",
        "\n",
        "# Predicción\n",
        "x_pred = np.linspace(1, 8, 100)\n",
        "y_pred = a + b * x_pred\n",
        "\n",
        "# Graficando\n",
        "plt.scatter(x, y, label='Datos')\n",
        "plt.plot(x_pred, y_pred, 'r', label=f'Razón de crecimiento: y = {a:.2f} + {b:.2f}x')\n",
        "plt.xlabel('x')\n",
        "plt.ylabel('y')\n",
        "plt.legend()\n",
        "plt.title('Regresión lineal - Razón de crecimiento')\n",
        "plt.grid(True)\n",
        "plt.show()\n"
      ],
      "metadata": {
        "id": "IpDaAZExwlx6"
      },
      "execution_count": null,
      "outputs": []
    }
  ]
}