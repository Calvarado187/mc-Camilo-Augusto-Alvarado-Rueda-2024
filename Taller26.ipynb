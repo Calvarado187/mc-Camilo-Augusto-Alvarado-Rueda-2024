{
  "nbformat": 4,
  "nbformat_minor": 0,
  "metadata": {
    "colab": {
      "provenance": []
    },
    "kernelspec": {
      "name": "python3",
      "display_name": "Python 3"
    },
    "language_info": {
      "name": "python"
    }
  },
  "cells": [
    {
      "cell_type": "code",
      "execution_count": 1,
      "metadata": {
        "colab": {
          "base_uri": "https://localhost:8080/"
        },
        "id": "AHZo-cFhgXKH",
        "outputId": "15e0b74e-b45b-496b-9e43-7fea283af88c"
      },
      "outputs": [
        {
          "output_type": "stream",
          "name": "stdout",
          "text": [
            "Recorrido en orden del árbol:\n",
            "[1, 2, 3, 4, 5, 6, 7, 10, 11, 12, 13, 14, 15, 18, 19, 20, 21, 22, 27, 28, 29, 30]\n"
          ]
        }
      ],
      "source": [
        "class Nodo:\n",
        "    def __init__(self, valor):\n",
        "        self.valor = valor\n",
        "        self.izquierda = None\n",
        "        self.derecha = None\n",
        "\n",
        "class ArbolBinarioBusqueda:\n",
        "    def __init__(self):\n",
        "        self.raiz = None\n",
        "\n",
        "    def insertar(self, valor):\n",
        "        if self.raiz is None:\n",
        "            self.raiz = Nodo(valor)\n",
        "        else:\n",
        "            self._insertar_recursivo(self.raiz, valor)\n",
        "\n",
        "    def _insertar_recursivo(self, nodo, valor):\n",
        "        if valor < nodo.valor:\n",
        "            if nodo.izquierda is None:\n",
        "                nodo.izquierda = Nodo(valor)\n",
        "            else:\n",
        "                self._insertar_recursivo(nodo.izquierda, valor)\n",
        "        elif valor > nodo.valor:\n",
        "            if nodo.derecha is None:\n",
        "                nodo.derecha = Nodo(valor)\n",
        "            else:\n",
        "                self._insertar_recursivo(nodo.derecha, valor)\n",
        "\n",
        "    def en_orden(self, nodo, resultados=[]):\n",
        "        if nodo:\n",
        "            self.en_orden(nodo.izquierda, resultados)\n",
        "            resultados.append(nodo.valor)\n",
        "            self.en_orden(nodo.derecha, resultados)\n",
        "        return resultados\n",
        "\n",
        "# Crear el árbol de búsqueda binaria e insertar los elementos del conjunto A\n",
        "A = [22, 15, 1, 12, 4, 20, 13, 30, 18, 5, 6, 29, 11, 27, 7, 28, 10, 14, 21, 2, 19, 3]\n",
        "\n",
        "arbol = ArbolBinarioBusqueda()\n",
        "for elemento in A:\n",
        "    arbol.insertar(elemento)\n",
        "\n",
        "# Imprimir el recorrido en orden del árbol\n",
        "print(\"Recorrido en orden del árbol:\")\n",
        "print(arbol.en_orden(arbol.raiz))\n"
      ]
    },
    {
      "cell_type": "code",
      "source": [
        "class BTreeNode:\n",
        "    def __init__(self, t, leaf=False):\n",
        "        self.t = t  # Minimum degree (defines the range for number of keys)\n",
        "        self.leaf = leaf  # True if leaf node, else false\n",
        "        self.keys = []  # List of keys\n",
        "        self.children = []  # List of child pointers\n",
        "\n",
        "class BTree:\n",
        "    def __init__(self, t):\n",
        "        self.root = BTreeNode(t, True)\n",
        "        self.t = t\n",
        "\n",
        "    def insert(self, k):\n",
        "        root = self.root\n",
        "        if len(root.keys) == 2 * self.t - 1:\n",
        "            temp = BTreeNode(self.t, False)\n",
        "            temp.children.append(self.root)\n",
        "            self.split_child(temp, 0)\n",
        "            self.insert_non_full(temp, k)\n",
        "            self.root = temp\n",
        "        else:\n",
        "            self.insert_non_full(root, k)\n",
        "\n",
        "    def insert_non_full(self, node, k):\n",
        "        i = len(node.keys) - 1\n",
        "        if node.leaf:\n",
        "            node.keys.append((None, None))\n",
        "            while i >= 0 and k < node.keys[i]:\n",
        "                node.keys[i + 1] = node.keys[i]\n",
        "                i -= 1\n",
        "            node.keys[i + 1] = k\n",
        "        else:\n",
        "            while i >= 0 and k < node.keys[i]:\n",
        "                i -= 1\n",
        "            i += 1\n",
        "            if len(node.children[i].keys) == 2 * self.t - 1:\n",
        "                self.split_child(node, i)\n",
        "                if k > node.keys[i]:\n",
        "                    i += 1\n",
        "            self.insert_non_full(node.children[i], k)\n",
        "\n",
        "    def split_child(self, node, i):\n",
        "        t = self.t\n",
        "        y = node.children[i]\n",
        "        z = BTreeNode(t, y.leaf)\n",
        "        node.children.insert(i + 1, z)\n",
        "        node.keys.insert(i, y.keys[t - 1])\n",
        "        z.keys = y.keys[t: (2 * t - 1)]\n",
        "        y.keys = y.keys[0: t - 1]\n",
        "        if not y.leaf:\n",
        "            z.children = y.children[t: (2 * t)]\n",
        "            y.children = y.children[0: t]\n",
        "\n",
        "    def print_tree(self, node, indent):\n",
        "        print(' ' * indent, node.keys)\n",
        "        if not node.leaf:\n",
        "            for child in node.children:\n",
        "                self.print_tree(child, indent + 4)\n",
        "\n",
        "# Conjunto A\n",
        "A = [22, 15, 1, 12, 4, 20, 13, 30, 18, 5, 6, 29, 11, 27, 7, 28, 10, 14, 21, 2, 19, 3]\n",
        "\n",
        "# Crear e insertar elementos en el B-Tree\n",
        "btree = BTree(5)\n",
        "for element in A:\n",
        "    btree.insert(element)\n",
        "\n",
        "# Imprimir el árbol B\n",
        "print(\"B-Tree:\")\n",
        "btree.print_tree(btree.root, 0)\n"
      ],
      "metadata": {
        "colab": {
          "base_uri": "https://localhost:8080/"
        },
        "id": "LRMJN1DPgwpZ",
        "outputId": "6d4e5cb1-101b-4a7e-ec49-9869f023306b"
      },
      "execution_count": 2,
      "outputs": [
        {
          "output_type": "stream",
          "name": "stdout",
          "text": [
            "B-Tree:\n",
            " [7, 15]\n",
            "     [1, 2, 3, 4, 5, 6]\n",
            "     [10, 11, 12, 13, 14]\n",
            "     [18, 19, 20, 21, 22, 27, 28, 29, 30]\n"
          ]
        }
      ]
    }
  ]
}